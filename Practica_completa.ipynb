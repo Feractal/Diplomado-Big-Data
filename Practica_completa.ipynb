{
 "cells": [
  {
   "cell_type": "markdown",
   "metadata": {},
   "source": [
    "# Preprocesamiento de datos"
   ]
  },
  {
   "cell_type": "code",
   "execution_count": 1,
   "metadata": {},
   "outputs": [],
   "source": [
    "import pandas as pd\n",
    "import numpy as np\n",
    "import matplotlib.pyplot as plt\n",
    "import seaborn as sns"
   ]
  },
  {
   "cell_type": "markdown",
   "metadata": {},
   "source": [
    "### Carga de archivos"
   ]
  },
  {
   "cell_type": "code",
   "execution_count": 2,
   "metadata": {},
   "outputs": [],
   "source": [
    "df_a = pd.read_csv('201411.csv')\n",
    "df_b = pd.read_csv('201421.csv')"
   ]
  },
  {
   "cell_type": "markdown",
   "metadata": {},
   "source": [
    "### Preprocesamiento"
   ]
  },
  {
   "cell_type": "markdown",
   "metadata": {},
   "source": [
    "#### a) Agregar los registros duplicados a una tabla llamada \"verificaciones_duplicadas\".\n",
    "\n",
    "Nota: Para identificar los duplicados se ocupará la columna \"CertificadoId\""
   ]
  },
  {
   "cell_type": "code",
   "execution_count": 3,
   "metadata": {},
   "outputs": [],
   "source": [
    "verificaciones_duplicadas_a = df_a[df_a.duplicated(['CertificadoId'])]"
   ]
  },
  {
   "cell_type": "code",
   "execution_count": 4,
   "metadata": {},
   "outputs": [],
   "source": [
    "verificaciones_duplicadas_b = df_b[df_b.duplicated(['CertificadoId'])]"
   ]
  },
  {
   "cell_type": "code",
   "execution_count": 5,
   "metadata": {},
   "outputs": [],
   "source": [
    "df_a.rename(columns = {'troId':'Linea'}, inplace = True)"
   ]
  },
  {
   "cell_type": "markdown",
   "metadata": {},
   "source": [
    "#### b) Agregar los registros sucios en una tabla llamada \"verificaciones_con_ruido\"."
   ]
  },
  {
   "cell_type": "code",
   "execution_count": 6,
   "metadata": {},
   "outputs": [],
   "source": [
    "#Modelos únicos\n",
    "modelos_a = df_a['Modelo'].unique()"
   ]
  },
  {
   "cell_type": "code",
   "execution_count": 7,
   "metadata": {},
   "outputs": [],
   "source": [
    "modelos_b = df_b['Modelo'].unique()"
   ]
  },
  {
   "cell_type": "code",
   "execution_count": 8,
   "metadata": {},
   "outputs": [],
   "source": [
    "df_a['Modelo'] = df_a['Modelo'].map(str)\n",
    "idx_a = df_a['Modelo'].str.len() != 4\n",
    "verificaciones_con_ruido_a = df_a.loc[idx_a]"
   ]
  },
  {
   "cell_type": "code",
   "execution_count": 9,
   "metadata": {},
   "outputs": [],
   "source": [
    "idx_b = df_b['Modelo'].str.len() != 4\n",
    "verificaciones_con_ruido_b = df_b.loc[idx_b]"
   ]
  },
  {
   "cell_type": "markdown",
   "metadata": {},
   "source": [
    "#### c) Hacer la integración de los archivos 201411.csv y 201421.csv en una sola tabla llamada \"verificaciones_completa\"."
   ]
  },
  {
   "cell_type": "code",
   "execution_count": 10,
   "metadata": {},
   "outputs": [
    {
     "data": {
      "text/plain": [
       "(4314251, 12)"
      ]
     },
     "execution_count": 10,
     "metadata": {},
     "output_type": "execute_result"
    }
   ],
   "source": [
    "verificaciones_completa = pd.concat([df_a, df_b], axis=0, sort = False)\n",
    "verificaciones_completa.shape"
   ]
  },
  {
   "cell_type": "markdown",
   "metadata": {},
   "source": [
    "#### d) Realizar la limpieza necesaria para corregir datos con ruido, por ejemplo el año."
   ]
  },
  {
   "cell_type": "code",
   "execution_count": 11,
   "metadata": {},
   "outputs": [
    {
     "data": {
      "text/plain": [
       "Placa             0\n",
       "VIN               0\n",
       "Marca             0\n",
       "Submarca          0\n",
       "Modelo            0\n",
       "CertificadoId     0\n",
       "VerificentroId    0\n",
       "Linea             0\n",
       "Fecha             0\n",
       "Hora              0\n",
       "Resultado         0\n",
       "CausaRechazo      0\n",
       "dtype: int64"
      ]
     },
     "execution_count": 11,
     "metadata": {},
     "output_type": "execute_result"
    }
   ],
   "source": [
    "#Verificación de inexistencia de datos nulos \n",
    "verificaciones_completa.isnull().sum()"
   ]
  },
  {
   "cell_type": "code",
   "execution_count": 12,
   "metadata": {},
   "outputs": [
    {
     "data": {
      "text/html": [
       "<div>\n",
       "<style scoped>\n",
       "    .dataframe tbody tr th:only-of-type {\n",
       "        vertical-align: middle;\n",
       "    }\n",
       "\n",
       "    .dataframe tbody tr th {\n",
       "        vertical-align: top;\n",
       "    }\n",
       "\n",
       "    .dataframe thead th {\n",
       "        text-align: right;\n",
       "    }\n",
       "</style>\n",
       "<table border=\"1\" class=\"dataframe\">\n",
       "  <thead>\n",
       "    <tr style=\"text-align: right;\">\n",
       "      <th></th>\n",
       "      <th>Placa</th>\n",
       "      <th>VIN</th>\n",
       "      <th>Marca</th>\n",
       "      <th>Submarca</th>\n",
       "      <th>Modelo</th>\n",
       "      <th>CertificadoId</th>\n",
       "      <th>VerificentroId</th>\n",
       "      <th>Linea</th>\n",
       "      <th>Fecha</th>\n",
       "      <th>Hora</th>\n",
       "      <th>Resultado</th>\n",
       "      <th>CausaRechazo</th>\n",
       "    </tr>\n",
       "  </thead>\n",
       "  <tbody>\n",
       "    <tr>\n",
       "      <td>500014</td>\n",
       "      <td>111RAF</td>\n",
       "      <td>YV1RS53KX22096314</td>\n",
       "      <td>VOLVO</td>\n",
       "      <td>VOLVO_S60_2.0T</td>\n",
       "      <td>2002</td>\n",
       "      <td>102184101</td>\n",
       "      <td>9074</td>\n",
       "      <td>4</td>\n",
       "      <td>2014/02/19</td>\n",
       "      <td>14:36:07</td>\n",
       "      <td>DOS</td>\n",
       "      <td>DESCONOCIDO</td>\n",
       "    </tr>\n",
       "    <tr>\n",
       "      <td>502964</td>\n",
       "      <td>990SBX</td>\n",
       "      <td>3C3B146B9NT271322</td>\n",
       "      <td>DESCONOCIDO</td>\n",
       "      <td>DESCONOCIDO</td>\n",
       "      <td>1992</td>\n",
       "      <td>102715885</td>\n",
       "      <td>9042</td>\n",
       "      <td>5</td>\n",
       "      <td>2014/05/10</td>\n",
       "      <td>11:07:47</td>\n",
       "      <td>DOS</td>\n",
       "      <td>DESCONOCIDO</td>\n",
       "    </tr>\n",
       "    <tr>\n",
       "      <td>530078</td>\n",
       "      <td>888RXY</td>\n",
       "      <td>9BMMF33E4YA010530</td>\n",
       "      <td>MERCEDES BENZ</td>\n",
       "      <td>A160</td>\n",
       "      <td>2000</td>\n",
       "      <td>102301749</td>\n",
       "      <td>9007</td>\n",
       "      <td>5</td>\n",
       "      <td>2014/03/06</td>\n",
       "      <td>17:14:29</td>\n",
       "      <td>DOS</td>\n",
       "      <td>DESCONOCIDO</td>\n",
       "    </tr>\n",
       "    <tr>\n",
       "      <td>596116</td>\n",
       "      <td>REU1666</td>\n",
       "      <td>9BFBT08N258354682</td>\n",
       "      <td>FORD</td>\n",
       "      <td>FIESTA</td>\n",
       "      <td>2005</td>\n",
       "      <td>102664565</td>\n",
       "      <td>9032</td>\n",
       "      <td>6</td>\n",
       "      <td>2014/05/02</td>\n",
       "      <td>15:34:25</td>\n",
       "      <td>DOS</td>\n",
       "      <td>DESCONOCIDO</td>\n",
       "    </tr>\n",
       "    <tr>\n",
       "      <td>654318</td>\n",
       "      <td>A36529</td>\n",
       "      <td>8AWJC09E76A714598</td>\n",
       "      <td>VW</td>\n",
       "      <td>DERBY_2.0</td>\n",
       "      <td>2006</td>\n",
       "      <td>102610860</td>\n",
       "      <td>9050</td>\n",
       "      <td>4</td>\n",
       "      <td>2014/05/06</td>\n",
       "      <td>17:44:26</td>\n",
       "      <td>DOS</td>\n",
       "      <td>DESCONOCIDO</td>\n",
       "    </tr>\n",
       "    <tr>\n",
       "      <td>...</td>\n",
       "      <td>...</td>\n",
       "      <td>...</td>\n",
       "      <td>...</td>\n",
       "      <td>...</td>\n",
       "      <td>...</td>\n",
       "      <td>...</td>\n",
       "      <td>...</td>\n",
       "      <td>...</td>\n",
       "      <td>...</td>\n",
       "      <td>...</td>\n",
       "      <td>...</td>\n",
       "      <td>...</td>\n",
       "    </tr>\n",
       "    <tr>\n",
       "      <td>2235354</td>\n",
       "      <td>595XYS</td>\n",
       "      <td>9BWDB45U5CT086123</td>\n",
       "      <td>VW</td>\n",
       "      <td>GOL_1.6</td>\n",
       "      <td>2012</td>\n",
       "      <td>103224538</td>\n",
       "      <td>9024</td>\n",
       "      <td>1</td>\n",
       "      <td>2014/08/26</td>\n",
       "      <td>13:03:15</td>\n",
       "      <td>CERO</td>\n",
       "      <td>DESCONOCIDO</td>\n",
       "    </tr>\n",
       "    <tr>\n",
       "      <td>2235355</td>\n",
       "      <td>828XZC</td>\n",
       "      <td>3VW1V09M7CM029618</td>\n",
       "      <td>VW</td>\n",
       "      <td>CLASICO_2.0</td>\n",
       "      <td>2012</td>\n",
       "      <td>103262711</td>\n",
       "      <td>9023</td>\n",
       "      <td>5</td>\n",
       "      <td>2014/09/13</td>\n",
       "      <td>08:55:50</td>\n",
       "      <td>CERO</td>\n",
       "      <td>DESCONOCIDO</td>\n",
       "    </tr>\n",
       "    <tr>\n",
       "      <td>2235356</td>\n",
       "      <td>861XYS</td>\n",
       "      <td>3G1TC5CF5CL107689</td>\n",
       "      <td>GENERAL MOTORS</td>\n",
       "      <td>AVEO</td>\n",
       "      <td>2012</td>\n",
       "      <td>103689683</td>\n",
       "      <td>9023</td>\n",
       "      <td>5</td>\n",
       "      <td>2014/11/18</td>\n",
       "      <td>12:05:47</td>\n",
       "      <td>CERO</td>\n",
       "      <td>DESCONOCIDO</td>\n",
       "    </tr>\n",
       "    <tr>\n",
       "      <td>2235357</td>\n",
       "      <td>496YAB</td>\n",
       "      <td>3C4BDCAB4CT173381</td>\n",
       "      <td>CHRYSLER-DODGE</td>\n",
       "      <td>JOURNEY</td>\n",
       "      <td>2012</td>\n",
       "      <td>103180757</td>\n",
       "      <td>9023</td>\n",
       "      <td>4</td>\n",
       "      <td>2014/08/21</td>\n",
       "      <td>09:24:54</td>\n",
       "      <td>CERO</td>\n",
       "      <td>DESCONOCIDO</td>\n",
       "    </tr>\n",
       "    <tr>\n",
       "      <td>2235358</td>\n",
       "      <td>974VBM</td>\n",
       "      <td>1MEFM53592G627281</td>\n",
       "      <td>MERCURY</td>\n",
       "      <td>SABLE_3.8L</td>\n",
       "      <td>2002</td>\n",
       "      <td>105038565</td>\n",
       "      <td>9014</td>\n",
       "      <td>5</td>\n",
       "      <td>2014/07/15</td>\n",
       "      <td>12:01:03</td>\n",
       "      <td>DESCONOCIDO</td>\n",
       "      <td>DESCONOCIDO</td>\n",
       "    </tr>\n",
       "  </tbody>\n",
       "</table>\n",
       "<p>2195 rows × 12 columns</p>\n",
       "</div>"
      ],
      "text/plain": [
       "             Placa                    VIN                     Marca  \\\n",
       "500014   111RAF        YV1RS53KX22096314   VOLVO                      \n",
       "502964   990SBX        3C3B146B9NT271322   DESCONOCIDO                \n",
       "530078   888RXY        9BMMF33E4YA010530   MERCEDES BENZ              \n",
       "596116   REU1666       9BFBT08N258354682   FORD                       \n",
       "654318   A36529        8AWJC09E76A714598   VW                         \n",
       "...            ...                    ...                       ...   \n",
       "2235354  595XYS        9BWDB45U5CT086123            VW                \n",
       "2235355  828XZC        3VW1V09M7CM029618            VW                \n",
       "2235356  861XYS        3G1TC5CF5CL107689            GENERAL MOTORS    \n",
       "2235357  496YAB        3C4BDCAB4CT173381            CHRYSLER-DODGE    \n",
       "2235358  974VBM        1MEFM53592G627281            MERCURY           \n",
       "\n",
       "                                               Submarca Modelo  CertificadoId  \\\n",
       "500014          VOLVO_S60_2.0T                            2002      102184101   \n",
       "502964          DESCONOCIDO                               1992      102715885   \n",
       "530078          A160                                      2000      102301749   \n",
       "596116          FIESTA                                    2005      102664565   \n",
       "654318          DERBY_2.0                                 2006      102610860   \n",
       "...                                                 ...    ...            ...   \n",
       "2235354                       GOL_1.6                     2012      103224538   \n",
       "2235355                       CLASICO_2.0                 2012      103262711   \n",
       "2235356                       AVEO                        2012      103689683   \n",
       "2235357                       JOURNEY                     2012      103180757   \n",
       "2235358                       SABLE_3.8L                  2002      105038565   \n",
       "\n",
       "         VerificentroId  Linea            Fecha       Hora      Resultado  \\\n",
       "500014             9074      4      2014/02/19   14:36:07     DOS           \n",
       "502964             9042      5      2014/05/10   11:07:47     DOS           \n",
       "530078             9007      5      2014/03/06   17:14:29     DOS           \n",
       "596116             9032      6      2014/05/02   15:34:25     DOS           \n",
       "654318             9050      4      2014/05/06   17:44:26     DOS           \n",
       "...                 ...    ...              ...        ...            ...   \n",
       "2235354            9024      1      2014/08/26   13:03:15       CERO        \n",
       "2235355            9023      5      2014/09/13   08:55:50       CERO        \n",
       "2235356            9023      5      2014/11/18   12:05:47       CERO        \n",
       "2235357            9023      4      2014/08/21   09:24:54       CERO        \n",
       "2235358            9014      5      2014/07/15   12:01:03     DESCONOCIDO   \n",
       "\n",
       "           CausaRechazo  \n",
       "500014      DESCONOCIDO  \n",
       "502964      DESCONOCIDO  \n",
       "530078      DESCONOCIDO  \n",
       "596116      DESCONOCIDO  \n",
       "654318      DESCONOCIDO  \n",
       "...                 ...  \n",
       "2235354     DESCONOCIDO  \n",
       "2235355     DESCONOCIDO  \n",
       "2235356     DESCONOCIDO  \n",
       "2235357     DESCONOCIDO  \n",
       "2235358     DESCONOCIDO  \n",
       "\n",
       "[2195 rows x 12 columns]"
      ]
     },
     "execution_count": 12,
     "metadata": {},
     "output_type": "execute_result"
    }
   ],
   "source": [
    "#Duplicaciones\n",
    "#verificaciones_duplicadas = df_a[df_a.duplicated(['CertificadoId'])]\n",
    "verificaciones_completa[verificaciones_completa.duplicated(['CertificadoId'])]"
   ]
  },
  {
   "cell_type": "code",
   "execution_count": 13,
   "metadata": {},
   "outputs": [
    {
     "data": {
      "text/plain": [
       "(4300554, 12)"
      ]
     },
     "execution_count": 13,
     "metadata": {},
     "output_type": "execute_result"
    }
   ],
   "source": [
    "#Corrección de año\n",
    "idx = verificaciones_completa['Modelo'].str.len() == 4\n",
    "verificaciones_completa = verificaciones_completa.loc[idx]\n",
    "verificaciones_completa.shape"
   ]
  },
  {
   "cell_type": "code",
   "execution_count": 14,
   "metadata": {},
   "outputs": [
    {
     "data": {
      "text/plain": [
       "array(['  CERO       ', '  RECHAZO    ', '  DOBLE CERO ', '  DOS        ',\n",
       "       '  DESCONOCIDO', '  CERO     ', '  DOS      ', '  RECHAZO  ',\n",
       "       '  DOBLE CERO'], dtype=object)"
      ]
     },
     "execution_count": 14,
     "metadata": {},
     "output_type": "execute_result"
    }
   ],
   "source": [
    "#Unificación de columna resultado\n",
    "verificaciones_completa['Resultado'].unique()"
   ]
  },
  {
   "cell_type": "code",
   "execution_count": 15,
   "metadata": {},
   "outputs": [],
   "source": [
    "verificaciones_completa['Resultado'] = verificaciones_completa['Resultado'].replace(\n",
    "        ['  CERO       ', '  CERO     ', '  RECHAZO    ', '  RECHAZO  ', '  DOBLE CERO ', '  DOBLE CERO', '  DOS        ','  DOS      ', '  DESCONOCIDO'],\n",
    "    \n",
    "        ['CERO', 'CERO', 'RECHAZO', 'RECHAZO', 'DOBLE CERO', 'DOBLE CERO', 'DOS', 'DOS', 'DESCONOCIDO'])"
   ]
  },
  {
   "cell_type": "code",
   "execution_count": 16,
   "metadata": {},
   "outputs": [
    {
     "data": {
      "text/plain": [
       "array(['CERO', 'RECHAZO', 'DOBLE CERO', 'DOS', 'DESCONOCIDO'],\n",
       "      dtype=object)"
      ]
     },
     "execution_count": 16,
     "metadata": {},
     "output_type": "execute_result"
    }
   ],
   "source": [
    "verificaciones_completa['Resultado'].unique()"
   ]
  },
  {
   "cell_type": "code",
   "execution_count": 17,
   "metadata": {},
   "outputs": [],
   "source": [
    "verificaciones_completa.to_csv('verificaciones_completa.csv', index=False)"
   ]
  },
  {
   "cell_type": "markdown",
   "metadata": {},
   "source": [
    "### Extracción de información"
   ]
  },
  {
   "cell_type": "code",
   "execution_count": 18,
   "metadata": {},
   "outputs": [
    {
     "data": {
      "text/html": [
       "<div>\n",
       "<style scoped>\n",
       "    .dataframe tbody tr th:only-of-type {\n",
       "        vertical-align: middle;\n",
       "    }\n",
       "\n",
       "    .dataframe tbody tr th {\n",
       "        vertical-align: top;\n",
       "    }\n",
       "\n",
       "    .dataframe thead th {\n",
       "        text-align: right;\n",
       "    }\n",
       "</style>\n",
       "<table border=\"1\" class=\"dataframe\">\n",
       "  <thead>\n",
       "    <tr style=\"text-align: right;\">\n",
       "      <th></th>\n",
       "      <th>Placa</th>\n",
       "      <th>VIN</th>\n",
       "      <th>Marca</th>\n",
       "      <th>Submarca</th>\n",
       "      <th>Modelo</th>\n",
       "      <th>CertificadoId</th>\n",
       "      <th>VerificentroId</th>\n",
       "      <th>Linea</th>\n",
       "      <th>Fecha</th>\n",
       "      <th>Hora</th>\n",
       "      <th>Resultado</th>\n",
       "      <th>CausaRechazo</th>\n",
       "    </tr>\n",
       "  </thead>\n",
       "  <tbody>\n",
       "    <tr>\n",
       "      <td>0</td>\n",
       "      <td>906VAN</td>\n",
       "      <td>WBAPC91027WD88073</td>\n",
       "      <td>BMW</td>\n",
       "      <td>X3_3.0_SI</td>\n",
       "      <td>2007</td>\n",
       "      <td>100063581</td>\n",
       "      <td>9019</td>\n",
       "      <td>1</td>\n",
       "      <td>2014/01/23</td>\n",
       "      <td>09:02:53</td>\n",
       "      <td>CERO</td>\n",
       "      <td>DESCONOCIDO</td>\n",
       "    </tr>\n",
       "    <tr>\n",
       "      <td>1</td>\n",
       "      <td>214UYK</td>\n",
       "      <td>1FMCU04138KA41531</td>\n",
       "      <td>FORD</td>\n",
       "      <td>ESCAPE_4X4</td>\n",
       "      <td>2008</td>\n",
       "      <td>100455822</td>\n",
       "      <td>9029</td>\n",
       "      <td>3</td>\n",
       "      <td>2014/04/08</td>\n",
       "      <td>09:17:40</td>\n",
       "      <td>CERO</td>\n",
       "      <td>DESCONOCIDO</td>\n",
       "    </tr>\n",
       "    <tr>\n",
       "      <td>2</td>\n",
       "      <td>941VKC</td>\n",
       "      <td>WBAFE41098LZ82376</td>\n",
       "      <td>BMW</td>\n",
       "      <td>X3_3.0_SI</td>\n",
       "      <td>2008</td>\n",
       "      <td>100636175</td>\n",
       "      <td>9002</td>\n",
       "      <td>6</td>\n",
       "      <td>2014/05/14</td>\n",
       "      <td>15:48:50</td>\n",
       "      <td>CERO</td>\n",
       "      <td>DESCONOCIDO</td>\n",
       "    </tr>\n",
       "    <tr>\n",
       "      <td>3</td>\n",
       "      <td>833WDT</td>\n",
       "      <td>KMHCN41C08U225078</td>\n",
       "      <td>CHRYSLER-DODGE</td>\n",
       "      <td>ATTITUDE</td>\n",
       "      <td>2008</td>\n",
       "      <td>100402938</td>\n",
       "      <td>9014</td>\n",
       "      <td>4</td>\n",
       "      <td>2014/04/05</td>\n",
       "      <td>14:32:21</td>\n",
       "      <td>CERO</td>\n",
       "      <td>DESCONOCIDO</td>\n",
       "    </tr>\n",
       "    <tr>\n",
       "      <td>4</td>\n",
       "      <td>520WSK</td>\n",
       "      <td>93YL61JS99J052638</td>\n",
       "      <td>NISSAN</td>\n",
       "      <td>APRIO</td>\n",
       "      <td>2009</td>\n",
       "      <td>100825459</td>\n",
       "      <td>9007</td>\n",
       "      <td>8</td>\n",
       "      <td>2014/06/27</td>\n",
       "      <td>10:58:39</td>\n",
       "      <td>CERO</td>\n",
       "      <td>DESCONOCIDO</td>\n",
       "    </tr>\n",
       "  </tbody>\n",
       "</table>\n",
       "</div>"
      ],
      "text/plain": [
       "       Placa                    VIN                     Marca  \\\n",
       "0  906VAN        WBAPC91027WD88073   BMW                        \n",
       "1  214UYK        1FMCU04138KA41531   FORD                       \n",
       "2  941VKC        WBAFE41098LZ82376   BMW                        \n",
       "3  833WDT        KMHCN41C08U225078   CHRYSLER-DODGE             \n",
       "4  520WSK        93YL61JS99J052638   NISSAN                     \n",
       "\n",
       "                                         Submarca Modelo  CertificadoId  \\\n",
       "0         X3_3.0_SI                                 2007      100063581   \n",
       "1         ESCAPE_4X4                                2008      100455822   \n",
       "2         X3_3.0_SI                                 2008      100636175   \n",
       "3         ATTITUDE                                  2008      100402938   \n",
       "4         APRIO                                     2009      100825459   \n",
       "\n",
       "   VerificentroId  Linea           Fecha       Hora Resultado  CausaRechazo  \n",
       "0            9019      1     2014/01/23   09:02:53       CERO   DESCONOCIDO  \n",
       "1            9029      3     2014/04/08   09:17:40       CERO   DESCONOCIDO  \n",
       "2            9002      6     2014/05/14   15:48:50       CERO   DESCONOCIDO  \n",
       "3            9014      4     2014/04/05   14:32:21       CERO   DESCONOCIDO  \n",
       "4            9007      8     2014/06/27   10:58:39       CERO   DESCONOCIDO  "
      ]
     },
     "execution_count": 18,
     "metadata": {},
     "output_type": "execute_result"
    }
   ],
   "source": [
    "verificaciones_completa.head()"
   ]
  },
  {
   "cell_type": "markdown",
   "metadata": {},
   "source": [
    "#### ¿Cuántos vehículos hay por modelo?"
   ]
  },
  {
   "cell_type": "code",
   "execution_count": 19,
   "metadata": {},
   "outputs": [
    {
     "data": {
      "text/html": [
       "<div>\n",
       "<style scoped>\n",
       "    .dataframe tbody tr th:only-of-type {\n",
       "        vertical-align: middle;\n",
       "    }\n",
       "\n",
       "    .dataframe tbody tr th {\n",
       "        vertical-align: top;\n",
       "    }\n",
       "\n",
       "    .dataframe thead th {\n",
       "        text-align: right;\n",
       "    }\n",
       "</style>\n",
       "<table border=\"1\" class=\"dataframe\">\n",
       "  <thead>\n",
       "    <tr style=\"text-align: right;\">\n",
       "      <th></th>\n",
       "      <th>Modelo</th>\n",
       "      <th>Count</th>\n",
       "    </tr>\n",
       "  </thead>\n",
       "  <tbody>\n",
       "    <tr>\n",
       "      <td>0</td>\n",
       "      <td>2007</td>\n",
       "      <td>332825</td>\n",
       "    </tr>\n",
       "    <tr>\n",
       "      <td>1</td>\n",
       "      <td>2008</td>\n",
       "      <td>326234</td>\n",
       "    </tr>\n",
       "    <tr>\n",
       "      <td>2</td>\n",
       "      <td>2005</td>\n",
       "      <td>299131</td>\n",
       "    </tr>\n",
       "    <tr>\n",
       "      <td>3</td>\n",
       "      <td>2006</td>\n",
       "      <td>280156</td>\n",
       "    </tr>\n",
       "    <tr>\n",
       "      <td>4</td>\n",
       "      <td>2011</td>\n",
       "      <td>276062</td>\n",
       "    </tr>\n",
       "    <tr>\n",
       "      <td>...</td>\n",
       "      <td>...</td>\n",
       "      <td>...</td>\n",
       "    </tr>\n",
       "    <tr>\n",
       "      <td>75</td>\n",
       "      <td>1931</td>\n",
       "      <td>2</td>\n",
       "    </tr>\n",
       "    <tr>\n",
       "      <td>76</td>\n",
       "      <td>1932</td>\n",
       "      <td>2</td>\n",
       "    </tr>\n",
       "    <tr>\n",
       "      <td>77</td>\n",
       "      <td>1934</td>\n",
       "      <td>2</td>\n",
       "    </tr>\n",
       "    <tr>\n",
       "      <td>78</td>\n",
       "      <td>1928</td>\n",
       "      <td>2</td>\n",
       "    </tr>\n",
       "    <tr>\n",
       "      <td>79</td>\n",
       "      <td>1939</td>\n",
       "      <td>1</td>\n",
       "    </tr>\n",
       "  </tbody>\n",
       "</table>\n",
       "<p>80 rows × 2 columns</p>\n",
       "</div>"
      ],
      "text/plain": [
       "   Modelo   Count\n",
       "0    2007  332825\n",
       "1    2008  326234\n",
       "2    2005  299131\n",
       "3    2006  280156\n",
       "4    2011  276062\n",
       "..    ...     ...\n",
       "75   1931       2\n",
       "76   1932       2\n",
       "77   1934       2\n",
       "78   1928       2\n",
       "79   1939       1\n",
       "\n",
       "[80 rows x 2 columns]"
      ]
     },
     "execution_count": 19,
     "metadata": {},
     "output_type": "execute_result"
    }
   ],
   "source": [
    "#Cantidad por modelo\n",
    "bb = verificaciones_completa['Modelo'].value_counts()\n",
    "bb = bb.sort_values(ascending=False).to_frame().reset_index()\n",
    "bb.columns = ['Modelo', 'Count']\n",
    "bb"
   ]
  },
  {
   "cell_type": "code",
   "execution_count": 20,
   "metadata": {},
   "outputs": [
    {
     "ename": "AttributeError",
     "evalue": "'AxesSubplot' object has no attribute 'x'",
     "output_type": "error",
     "traceback": [
      "\u001b[0;31m---------------------------------------------------------------------------\u001b[0m",
      "\u001b[0;31mAttributeError\u001b[0m                            Traceback (most recent call last)",
      "\u001b[0;32m<ipython-input-20-c1d416bb28f6>\u001b[0m in \u001b[0;36m<module>\u001b[0;34m\u001b[0m\n\u001b[1;32m      1\u001b[0m \u001b[0max\u001b[0m \u001b[0;34m=\u001b[0m \u001b[0mbb\u001b[0m\u001b[0;34m.\u001b[0m\u001b[0mplot\u001b[0m\u001b[0;34m(\u001b[0m\u001b[0mkind\u001b[0m\u001b[0;34m=\u001b[0m\u001b[0;34m\"bar\"\u001b[0m\u001b[0;34m,\u001b[0m \u001b[0mcolor\u001b[0m\u001b[0;34m=\u001b[0m\u001b[0;34m'c'\u001b[0m\u001b[0;34m,\u001b[0m \u001b[0mfigsize\u001b[0m\u001b[0;34m=\u001b[0m\u001b[0;34m(\u001b[0m\u001b[0;36m20\u001b[0m\u001b[0;34m,\u001b[0m\u001b[0;36m8\u001b[0m\u001b[0;34m)\u001b[0m\u001b[0;34m,\u001b[0m \u001b[0mwidth\u001b[0m\u001b[0;34m=\u001b[0m\u001b[0;36m0.4\u001b[0m\u001b[0;34m,\u001b[0m \u001b[0mlegend\u001b[0m \u001b[0;34m=\u001b[0m \u001b[0;32mFalse\u001b[0m\u001b[0;34m)\u001b[0m\u001b[0;34m\u001b[0m\u001b[0;34m\u001b[0m\u001b[0m\n\u001b[1;32m      2\u001b[0m \u001b[0mplt\u001b[0m\u001b[0;34m.\u001b[0m\u001b[0mtitle\u001b[0m\u001b[0;34m(\u001b[0m\u001b[0;34m'Modelos'\u001b[0m\u001b[0;34m,\u001b[0m \u001b[0msize\u001b[0m \u001b[0;34m=\u001b[0m \u001b[0;36m24\u001b[0m\u001b[0;34m)\u001b[0m\u001b[0;34m\u001b[0m\u001b[0;34m\u001b[0m\u001b[0m\n\u001b[0;32m----> 3\u001b[0;31m \u001b[0max\u001b[0m\u001b[0;34m.\u001b[0m\u001b[0mx\u001b[0m\u001b[0;34m\u001b[0m\u001b[0;34m\u001b[0m\u001b[0m\n\u001b[0m\u001b[1;32m      4\u001b[0m \u001b[0max\u001b[0m\u001b[0;34m.\u001b[0m\u001b[0mset_xlabel\u001b[0m\u001b[0;34m(\u001b[0m\u001b[0;34m'Modelo'\u001b[0m\u001b[0;34m)\u001b[0m\u001b[0;34m\u001b[0m\u001b[0;34m\u001b[0m\u001b[0m\n\u001b[1;32m      5\u001b[0m \u001b[0max\u001b[0m\u001b[0;34m.\u001b[0m\u001b[0mset_ylabel\u001b[0m\u001b[0;34m(\u001b[0m\u001b[0;34m'Cantidad'\u001b[0m\u001b[0;34m)\u001b[0m\u001b[0;34m\u001b[0m\u001b[0;34m\u001b[0m\u001b[0m\n",
      "\u001b[0;31mAttributeError\u001b[0m: 'AxesSubplot' object has no attribute 'x'"
     ]
    },
    {
     "data": {
      "image/png": "[encoded data removed]",
      "text/plain": [
       "<Figure size 1440x576 with 1 Axes>"
      ]
     },
     "metadata": {
      "needs_background": "light"
     },
     "output_type": "display_data"
    }
   ],
   "source": [
    "ax = bb.plot(kind=\"bar\", color='c', figsize=(20,8), width=0.4, legend = False)\n",
    "plt.title('Modelos', size = 24)\n",
    "ax.x\n",
    "ax.set_xlabel('Modelo')\n",
    "ax.set_ylabel('Cantidad')\n",
    "plt.show()"
   ]
  },
  {
   "cell_type": "code",
   "execution_count": 21,
   "metadata": {},
   "outputs": [
    {
     "name": "stdout",
     "output_type": "stream",
     "text": [
      "CERO           1702336\n",
      "DOS            1189896\n",
      "DESCONOCIDO     649146\n",
      "RECHAZO         569858\n",
      "DOBLE CERO      189318\n",
      "Name: Resultado, dtype: int64\n"
     ]
    }
   ],
   "source": [
    "#Total registros por resultado\n",
    "res = verificaciones_completa['Resultado'].unique()\n",
    "print(verificaciones_completa['Resultado'].value_counts())"
   ]
  },
  {
   "cell_type": "code",
   "execution_count": 22,
   "metadata": {},
   "outputs": [
    {
     "data": {
      "image/png": "[encoded data removed]",
      "text/plain": [
       "<Figure size 864x432 with 1 Axes>"
      ]
     },
     "metadata": {
      "needs_background": "light"
     },
     "output_type": "display_data"
    }
   ],
   "source": [
    "res = verificaciones_completa['Resultado'].value_counts()\n",
    "res = res.sort_values(ascending=True).to_frame().reset_index()\n",
    "res.columns = ['Resultado', 'Count']\n",
    "\n",
    "ax = res.plot(kind=\"barh\", color='c', figsize=(12,6), width=0.4, legend = False)\n",
    "plt.title('Causas de rechazo')\n",
    "ax.set_xlabel('Cantidad')\n",
    "ax.set_ylabel('Causas')\n",
    "plt.show()"
   ]
  },
  {
   "cell_type": "markdown",
   "metadata": {},
   "source": [
    "##### 1. ¿Cuántos registros tiene la base de datos?"
   ]
  },
  {
   "cell_type": "code",
   "execution_count": 23,
   "metadata": {},
   "outputs": [
    {
     "name": "stdout",
     "output_type": "stream",
     "text": [
      "La base de datos tiene 4300554 registros.\n"
     ]
    }
   ],
   "source": [
    "print('La base de datos tiene', verificaciones_completa.shape[0], 'registros.')"
   ]
  },
  {
   "cell_type": "markdown",
   "metadata": {},
   "source": [
    "##### 2. ¿Cuántos vehículos existen en la base de datos?"
   ]
  },
  {
   "cell_type": "code",
   "execution_count": 24,
   "metadata": {},
   "outputs": [
    {
     "name": "stdout",
     "output_type": "stream",
     "text": [
      "Existen 2177805 vehículos en la base de datos.\n"
     ]
    }
   ],
   "source": [
    "print('Existen', len(verificaciones_completa['VIN'].unique()), 'vehículos en la base de datos.')"
   ]
  },
  {
   "cell_type": "markdown",
   "metadata": {},
   "source": [
    "##### 3. ¿Cuántos verificentros se tienen registrados en la BD?"
   ]
  },
  {
   "cell_type": "code",
   "execution_count": 25,
   "metadata": {},
   "outputs": [
    {
     "name": "stdout",
     "output_type": "stream",
     "text": [
      "Hay 82 verificentros registrados en la base de datos.\n"
     ]
    }
   ],
   "source": [
    "print('Hay', len(verificaciones_completa['VerificentroId'].unique()), \n",
    "      'verificentros registrados en la base de datos.')"
   ]
  },
  {
   "cell_type": "markdown",
   "metadata": {},
   "source": [
    "##### 4. ¿Cuántas marcas se tienen?"
   ]
  },
  {
   "cell_type": "code",
   "execution_count": 26,
   "metadata": {},
   "outputs": [
    {
     "name": "stdout",
     "output_type": "stream",
     "text": [
      "Hay 165 marcas registradas en la base de datos.\n"
     ]
    }
   ],
   "source": [
    "print('Hay', len(verificaciones_completa['Marca'].unique()), 'marcas registradas en la base de datos.')"
   ]
  },
  {
   "cell_type": "markdown",
   "metadata": {},
   "source": [
    "##### 5. ¿Cuántas  días aparecen?"
   ]
  },
  {
   "cell_type": "code",
   "execution_count": 27,
   "metadata": {},
   "outputs": [
    {
     "name": "stdout",
     "output_type": "stream",
     "text": [
      "Aparecen 313 días en la base de datos.\n"
     ]
    }
   ],
   "source": [
    "print('Aparecen', len(verificaciones_completa['Fecha'].unique()), 'días en la base de datos.')"
   ]
  },
  {
   "cell_type": "markdown",
   "metadata": {},
   "source": [
    "##### 6. ¿Cuántos meses hay?"
   ]
  },
  {
   "cell_type": "code",
   "execution_count": 28,
   "metadata": {},
   "outputs": [
    {
     "name": "stdout",
     "output_type": "stream",
     "text": [
      "Hay 12 meses en la base de datos.\n"
     ]
    }
   ],
   "source": [
    "verificaciones_completa['Mes'] = pd.to_datetime(verificaciones_completa['Fecha']).dt.month\n",
    "print('Hay', len(verificaciones_completa['Mes'].unique()), 'meses en la base de datos.')"
   ]
  },
  {
   "cell_type": "markdown",
   "metadata": {},
   "source": [
    "##### 7. ¿Qué resultados hay?"
   ]
  },
  {
   "cell_type": "code",
   "execution_count": 29,
   "metadata": {},
   "outputs": [
    {
     "name": "stdout",
     "output_type": "stream",
     "text": [
      "Los resultados posibles que hay son:  ['CERO' 'RECHAZO' 'DOBLE CERO' 'DOS' 'DESCONOCIDO']\n"
     ]
    }
   ],
   "source": [
    "print('Los resultados posibles que hay son: ', verificaciones_completa['Resultado'].unique())"
   ]
  },
  {
   "cell_type": "markdown",
   "metadata": {},
   "source": [
    "##### 8. ¿Cuales son los tipos de causa rechazo presentes?"
   ]
  },
  {
   "cell_type": "code",
   "execution_count": 30,
   "metadata": {},
   "outputs": [
    {
     "name": "stdout",
     "output_type": "stream",
     "text": [
      "Los tipos de causa de rechazo presentes son:  [' DESCONOCIDO' ' DILUCION DURANTE LA PRUEBA DE EMISIONES'\n",
      " ' VALOR DE EMISIONES FUERA DE TOLERANCIAS'\n",
      " ' PRESENCIA DE HUMO DURANTE LA PRUEBA' ' INSPECCION VISUAL NO SUPERADA'\n",
      " ' CONVERTIDOR CATALITICO NO FUNCIONAL'\n",
      " ' VALOR LAMBDA FUERA DE TOLERANCIAS' ' BHP,KMH,RPM, EXCLUSIONES MAXIMAS'\n",
      " ' PRUEBA DE EVALUACION TECNICA' ' NO LOGRO ESTABILIZACION DE RPM'\n",
      " '   DESCONOCIDO' '   DILUCION DURANTE LA PRUEBA DE EMISIONES'\n",
      " '   PRESENCIA DE HUMO DURANTE LA PRUEBA' 'DESCONOCIDO'\n",
      " '   INSPECCION VISUAL NO SUPERADA' '   BHP,KMH,RPM, EXCLUSIONES MAXIMAS'\n",
      " '   VALOR DE EMISIONES FUERA DE TOLERANCIAS'\n",
      " '   VALOR LAMBDA FUERA DE TOLERANCIAS'\n",
      " '   CONVERTIDOR CATALITICO NO FUNCIONAL'\n",
      " '   PRUEBA DE EVALUACION TECNICA' 'DO PRUEBA DE EVALUACION TECNICA'\n",
      " '   NO LOGRO ESTABILIZACION DE RPM' 'O  PRUEBA DE EVALUACION TECNICA']\n"
     ]
    }
   ],
   "source": [
    "print('Los tipos de causa de rechazo presentes son: ', verificaciones_completa['CausaRechazo'].unique())"
   ]
  },
  {
   "cell_type": "markdown",
   "metadata": {},
   "source": [
    "##### 9. ¿Cuál es el vehículo mas viejo y el más nuevo?"
   ]
  },
  {
   "cell_type": "code",
   "execution_count": 31,
   "metadata": {},
   "outputs": [
    {
     "name": "stdout",
     "output_type": "stream",
     "text": [
      "El modelo de vehículo más viejo es: 1900\n",
      "El modelo de vehículo más nuevo es: 2015\n"
     ]
    }
   ],
   "source": [
    "print('El modelo de vehículo más viejo es:', min(verificaciones_completa['Modelo'].map(int)))\n",
    "print('El modelo de vehículo más nuevo es:', max(verificaciones_completa['Modelo'].map(int)))"
   ]
  },
  {
   "cell_type": "markdown",
   "metadata": {},
   "source": [
    "##### 10. ¿Cuál es la submarca del vehículo  mas presente en la base de datos?"
   ]
  },
  {
   "cell_type": "code",
   "execution_count": 32,
   "metadata": {},
   "outputs": [
    {
     "name": "stdout",
     "output_type": "stream",
     "text": [
      "La submarca de vehículo más presente en la base de datos es:                  TSURU                    \n"
     ]
    }
   ],
   "source": [
    "print('La submarca de vehículo más presente en la base de datos es: ', verificaciones_completa['Submarca'].value_counts().index.tolist()[0])"
   ]
  },
  {
   "cell_type": "markdown",
   "metadata": {},
   "source": [
    "##### 11. ¿Cual es el horario promedio del verificentro que más recibe vehículos ?"
   ]
  },
  {
   "cell_type": "code",
   "execution_count": 33,
   "metadata": {},
   "outputs": [],
   "source": [
    "#VerificentroID con más vehículos\n",
    "ID_max = verificaciones_completa['VerificentroId'].value_counts().index.tolist()[0]\n",
    "ID_max_set = verificaciones_completa.loc[verificaciones_completa['VerificentroId'] == ID_max].reset_index(drop=True)"
   ]
  },
  {
   "cell_type": "code",
   "execution_count": 34,
   "metadata": {},
   "outputs": [],
   "source": [
    "ID_max_set['Hora'] = ID_max_set['Hora'].replace(\" \", \"\")\n",
    "ID_max_set['Hora'] = ID_max_set['Hora'].str.strip()"
   ]
  },
  {
   "cell_type": "code",
   "execution_count": 35,
   "metadata": {},
   "outputs": [],
   "source": [
    "ID_max_set['Hora'] = pd.to_datetime(ID_max_set['Hora'], format='%H:%M:%S').dt.time"
   ]
  },
  {
   "cell_type": "code",
   "execution_count": 36,
   "metadata": {},
   "outputs": [
    {
     "name": "stdout",
     "output_type": "stream",
     "text": [
      "La hora con mayor visitas en el verificentro que recibe más vehículos es: 10:26:00\n"
     ]
    }
   ],
   "source": [
    "print('La hora con mayor visitas en el verificentro que recibe más vehículos es:', ID_max_set['Hora'].value_counts().index.tolist()[0])"
   ]
  },
  {
   "cell_type": "code",
   "execution_count": 37,
   "metadata": {},
   "outputs": [],
   "source": [
    "#Función para el promedio de horario\n",
    "import datetime\n",
    "def mean_time(l):\n",
    "    new_list = np.array([3600*time.hour + 60*time.minute + time.second for time in l])\n",
    "    mean_sec = new_list.mean()\n",
    "    mean = str(datetime.timedelta(seconds=mean_sec))\n",
    "    mean = mean.split(\":\")\n",
    "    return datetime.time(int(mean[0]),int(mean[1]), int(float(mean[2])))"
   ]
  },
  {
   "cell_type": "code",
   "execution_count": 38,
   "metadata": {},
   "outputs": [
    {
     "name": "stdout",
     "output_type": "stream",
     "text": [
      "El horario promedio del verificentro que recibe más vehículos es: 13:39:36\n"
     ]
    }
   ],
   "source": [
    "lista_horas = list(ID_max_set['Hora'].values)\n",
    "prom_hora = mean_time(lista_horas)\n",
    "print('El horario promedio del verificentro que recibe más vehículos es:', prom_hora)"
   ]
  },
  {
   "cell_type": "markdown",
   "metadata": {},
   "source": [
    "##### 12. ¿Cuántos registros por cada resultado se tienen?"
   ]
  },
  {
   "cell_type": "code",
   "execution_count": 39,
   "metadata": {},
   "outputs": [
    {
     "name": "stdout",
     "output_type": "stream",
     "text": [
      "Se tienen los siguientes registros por cada resultado:  CERO           1702336\n",
      "DOS            1189896\n",
      "DESCONOCIDO     649146\n",
      "RECHAZO         569858\n",
      "DOBLE CERO      189318\n",
      "Name: Resultado, dtype: int64\n"
     ]
    }
   ],
   "source": [
    "print('Se tienen los siguientes registros por cada resultado: ', verificaciones_completa['Resultado'].value_counts())"
   ]
  },
  {
   "cell_type": "markdown",
   "metadata": {},
   "source": [
    "##### 13. ¿Qué vehículo  fue el que tuvo más rechazos?"
   ]
  },
  {
   "cell_type": "code",
   "execution_count": 40,
   "metadata": {},
   "outputs": [
    {
     "name": "stdout",
     "output_type": "stream",
     "text": [
      "El vehículo con más rechazos es:     3GCHP42X4NM207415 \n"
     ]
    }
   ],
   "source": [
    "print('El vehículo con más rechazos es: ', verificaciones_completa['VIN'].value_counts().index.tolist()[0])"
   ]
  },
  {
   "cell_type": "markdown",
   "metadata": {},
   "source": [
    "##### 14. ¿Cuántos registros duplicados se encontraron?"
   ]
  },
  {
   "cell_type": "code",
   "execution_count": 41,
   "metadata": {},
   "outputs": [
    {
     "name": "stdout",
     "output_type": "stream",
     "text": [
      "Se encontraron 2189 registros duplicados.\n"
     ]
    }
   ],
   "source": [
    "print('Se encontraron', verificaciones_completa[verificaciones_completa.duplicated(['CertificadoId'])].shape[0], 'registros duplicados.')"
   ]
  },
  {
   "cell_type": "markdown",
   "metadata": {},
   "source": [
    "## Visualizaciones con cubos"
   ]
  },
  {
   "cell_type": "markdown",
   "metadata": {},
   "source": [
    "#### Cubo VerificentroxHoraProm"
   ]
  },
  {
   "cell_type": "code",
   "execution_count": 42,
   "metadata": {},
   "outputs": [],
   "source": [
    "new_df = pd.read_csv('VerificentroxHoraProm.csv')"
   ]
  },
  {
   "cell_type": "code",
   "execution_count": 43,
   "metadata": {},
   "outputs": [],
   "source": [
    "def VerifxHora(verif_ID):\n",
    "    aa = new_df[new_df['VerificentroId'] == verif_ID].sort_values(by=['Hora'])\n",
    "    sns.set_style('darkgrid')\n",
    "    g = sns.catplot(x='Hora', y='avg(Conteo)', kind='bar', data=aa, color = 'c')\n",
    "    g.set(xlabel=\"Hora\", ylabel=\"Promedio de autos\")"
   ]
  },
  {
   "cell_type": "code",
   "execution_count": 44,
   "metadata": {},
   "outputs": [
    {
     "data": {
      "image/png": "[encoded data removed]",
      "text/plain": [
       "<Figure size 360x360 with 1 Axes>"
      ]
     },
     "metadata": {},
     "output_type": "display_data"
    }
   ],
   "source": [
    "#Seleccionas el ID del verificentro a consultar:\n",
    "import seaborn as sns\n",
    "VerifxHora(9005)"
   ]
  },
  {
   "cell_type": "code",
   "execution_count": null,
   "metadata": {},
   "outputs": [],
   "source": []
  }
 ],
 "metadata": {
  "kernelspec": {
   "display_name": "Python 3",
   "language": "python",
   "name": "python3"
  },
  "language_info": {
   "codemirror_mode": {
    "name": "ipython",
    "version": 3
   },
   "file_extension": ".py",
   "mimetype": "text/x-python",
   "name": "python",
   "nbconvert_exporter": "python",
   "pygments_lexer": "ipython3",
   "version": "3.7.3"
  }
 },
 "nbformat": 4,
 "nbformat_minor": 2
}
